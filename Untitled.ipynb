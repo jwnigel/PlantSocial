{
 "cells": [
  {
   "cell_type": "code",
   "execution_count": 1,
   "id": "b51de008",
   "metadata": {},
   "outputs": [],
   "source": [
    "import pandas as pd"
   ]
  },
  {
   "cell_type": "code",
   "execution_count": 9,
   "id": "b5361a58",
   "metadata": {},
   "outputs": [],
   "source": [
    "df = pd.read_csv('formatted_plant_data.csv')"
   ]
  },
  {
   "cell_type": "code",
   "execution_count": 3,
   "id": "3d3b9489",
   "metadata": {},
   "outputs": [],
   "source": [
    "df.to_json('plant_data.json')"
   ]
  },
  {
   "cell_type": "code",
   "execution_count": 4,
   "id": "afc5164b",
   "metadata": {},
   "outputs": [
    {
     "data": {
      "text/plain": [
       "Index(['Unnamed: 0', 'genus', 'species', 'common_name', 'family', 'zones',\n",
       "       'light', 'moisture', 'form_size', 'form', 'min_h', 'max_h', 'min_w',\n",
       "       'max_w'],\n",
       "      dtype='object')"
      ]
     },
     "execution_count": 4,
     "metadata": {},
     "output_type": "execute_result"
    }
   ],
   "source": [
    "df.columns\n"
   ]
  },
  {
   "cell_type": "code",
   "execution_count": 10,
   "id": "63071314",
   "metadata": {},
   "outputs": [],
   "source": [
    "df = df.iloc[:, 1:]"
   ]
  },
  {
   "cell_type": "code",
   "execution_count": 12,
   "id": "9f3b8261",
   "metadata": {},
   "outputs": [
    {
     "data": {
      "text/plain": [
       "Index(['genus', 'species', 'common_name', 'family', 'zones', 'light',\n",
       "       'moisture', 'form_size', 'form', 'min_h', 'max_h', 'min_w', 'max_w'],\n",
       "      dtype='object')"
      ]
     },
     "execution_count": 12,
     "metadata": {},
     "output_type": "execute_result"
    }
   ],
   "source": [
    "df.columns"
   ]
  },
  {
   "cell_type": "code",
   "execution_count": 13,
   "id": "b7da6ed6",
   "metadata": {},
   "outputs": [],
   "source": [
    "json_data = df.to_json(orient='records', lines=True)"
   ]
  },
  {
   "cell_type": "code",
   "execution_count": 14,
   "id": "b78df994",
   "metadata": {},
   "outputs": [],
   "source": [
    "with open('plants.json', 'w') as f:\n",
    "    f.write(json_data)"
   ]
  },
  {
   "cell_type": "code",
   "execution_count": null,
   "id": "76d59165",
   "metadata": {},
   "outputs": [],
   "source": []
  }
 ],
 "metadata": {
  "kernelspec": {
   "display_name": "Python 3 (ipykernel)",
   "language": "python",
   "name": "python3"
  },
  "language_info": {
   "codemirror_mode": {
    "name": "ipython",
    "version": 3
   },
   "file_extension": ".py",
   "mimetype": "text/x-python",
   "name": "python",
   "nbconvert_exporter": "python",
   "pygments_lexer": "ipython3",
   "version": "3.8.10"
  }
 },
 "nbformat": 4,
 "nbformat_minor": 5
}
